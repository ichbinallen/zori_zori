{
 "cells": [
  {
   "cell_type": "code",
   "execution_count": 1,
   "id": "17a388b6",
   "metadata": {},
   "outputs": [
    {
     "data": {
      "application/javascript": [
       "\n",
       "            setTimeout(function() {\n",
       "                var nbb_cell_id = 1;\n",
       "                var nbb_unformatted_code = \"import numpy as np\\nimport pandas as pd\\nimport os\\n\\nimport matplotlib.pyplot as plt\\nimport matplotlib.ticker as mtick\\nimport seaborn as sns\\n\\n%matplotlib inline\\n%load_ext nb_black\\n\\nplt.rcParams[\\\"figure.figsize\\\"] = (14, 7)\";\n",
       "                var nbb_formatted_code = \"import numpy as np\\nimport pandas as pd\\nimport os\\n\\nimport matplotlib.pyplot as plt\\nimport matplotlib.ticker as mtick\\nimport seaborn as sns\\n\\n%matplotlib inline\\n%load_ext nb_black\\n\\nplt.rcParams[\\\"figure.figsize\\\"] = (14, 7)\";\n",
       "                var nbb_cells = Jupyter.notebook.get_cells();\n",
       "                for (var i = 0; i < nbb_cells.length; ++i) {\n",
       "                    if (nbb_cells[i].input_prompt_number == nbb_cell_id) {\n",
       "                        if (nbb_cells[i].get_text() == nbb_unformatted_code) {\n",
       "                             nbb_cells[i].set_text(nbb_formatted_code);\n",
       "                        }\n",
       "                        break;\n",
       "                    }\n",
       "                }\n",
       "            }, 500);\n",
       "            "
      ],
      "text/plain": [
       "<IPython.core.display.Javascript object>"
      ]
     },
     "metadata": {},
     "output_type": "display_data"
    }
   ],
   "source": [
    "import numpy as np\n",
    "import pandas as pd\n",
    "import os\n",
    "\n",
    "import matplotlib.pyplot as plt\n",
    "import matplotlib.ticker as mtick\n",
    "import seaborn as sns\n",
    "\n",
    "%matplotlib inline\n",
    "%load_ext nb_black\n",
    "\n",
    "plt.rcParams[\"figure.figsize\"] = (14, 7)"
   ]
  },
  {
   "cell_type": "markdown",
   "id": "8b143874",
   "metadata": {},
   "source": [
    "-------------"
   ]
  },
  {
   "cell_type": "code",
   "execution_count": 2,
   "id": "db0c98b0",
   "metadata": {},
   "outputs": [
    {
     "data": {
      "application/javascript": [
       "\n",
       "            setTimeout(function() {\n",
       "                var nbb_cell_id = 2;\n",
       "                var nbb_unformatted_code = \"def read_agi(filename, year):\\n    col_names = [\\n        \\\"STATEFIPS\\\",\\n        \\\"STATE\\\",\\n        \\\"ZIPCODE\\\",\\n        \\\"AGI_STUB\\\",\\n        \\\"N1\\\",\\n        # \\\"N2\\\",\\n        \\\"A00100\\\",\\n        # \\\"A02650\\\",\\n    ]\\n    col_types = {\\n        \\\"STATEFIPS\\\": str,\\n        \\\"STATE\\\": str,\\n        \\\"ZIPCODE\\\": str,\\n        \\\"AGI_STUB\\\": np.int32,\\n        \\\"N1\\\": np.float64,\\n        # \\\"N2\\\": np.int32,\\n        \\\"A00100\\\": np.float64,\\n        # \\\"A02650\\\": np.float64,\\n    }\\n    df = pd.read_csv(filename, usecols=col_names, dtype=col_types)\\n    df.rename(\\n        columns={\\n            \\\"N1\\\": \\\"num_returns\\\",\\n            # \\\"N2\\\": \\\"num_individuals\\\",\\n            \\\"A00100\\\": \\\"agi\\\",\\n            # \\\"A02650\\\": \\\"total_income\\\",\\n        },\\n        inplace=True,\\n    )\\n    tax_year = pd.to_datetime(year, format=\\\"%Y\\\")\\n    df[\\\"zip_agi\\\"] = df[\\\"num_returns\\\"] * df[\\\"agi\\\"]\\n    df = df.groupby([\\\"STATEFIPS\\\", \\\"STATE\\\", \\\"ZIPCODE\\\"]).agg(\\n        zip_returns=(\\\"num_returns\\\", \\\"sum\\\"), zip_agi_total=(\\\"zip_agi\\\", \\\"sum\\\")\\n    )\\n    df = df.reset_index()\\n    df[\\\"avg_agi\\\"] = round(df[\\\"zip_agi_total\\\"] / df[\\\"zip_returns\\\"])\\n    df[\\\"year\\\"] = tax_year\\n\\n    df = df[[\\\"year\\\", \\\"STATEFIPS\\\", \\\"STATE\\\", \\\"ZIPCODE\\\", \\\"avg_agi\\\"]]\\n    \\n    return df\";\n",
       "                var nbb_formatted_code = \"def read_agi(filename, year):\\n    col_names = [\\n        \\\"STATEFIPS\\\",\\n        \\\"STATE\\\",\\n        \\\"ZIPCODE\\\",\\n        \\\"AGI_STUB\\\",\\n        \\\"N1\\\",\\n        # \\\"N2\\\",\\n        \\\"A00100\\\",\\n        # \\\"A02650\\\",\\n    ]\\n    col_types = {\\n        \\\"STATEFIPS\\\": str,\\n        \\\"STATE\\\": str,\\n        \\\"ZIPCODE\\\": str,\\n        \\\"AGI_STUB\\\": np.int32,\\n        \\\"N1\\\": np.float64,\\n        # \\\"N2\\\": np.int32,\\n        \\\"A00100\\\": np.float64,\\n        # \\\"A02650\\\": np.float64,\\n    }\\n    df = pd.read_csv(filename, usecols=col_names, dtype=col_types)\\n    df.rename(\\n        columns={\\n            \\\"N1\\\": \\\"num_returns\\\",\\n            # \\\"N2\\\": \\\"num_individuals\\\",\\n            \\\"A00100\\\": \\\"agi\\\",\\n            # \\\"A02650\\\": \\\"total_income\\\",\\n        },\\n        inplace=True,\\n    )\\n    tax_year = pd.to_datetime(year, format=\\\"%Y\\\")\\n    df[\\\"zip_agi\\\"] = df[\\\"num_returns\\\"] * df[\\\"agi\\\"]\\n    df = df.groupby([\\\"STATEFIPS\\\", \\\"STATE\\\", \\\"ZIPCODE\\\"]).agg(\\n        zip_returns=(\\\"num_returns\\\", \\\"sum\\\"), zip_agi_total=(\\\"zip_agi\\\", \\\"sum\\\")\\n    )\\n    df = df.reset_index()\\n    df[\\\"avg_agi\\\"] = round(df[\\\"zip_agi_total\\\"] / df[\\\"zip_returns\\\"])\\n    df[\\\"year\\\"] = tax_year\\n\\n    df = df[[\\\"year\\\", \\\"STATEFIPS\\\", \\\"STATE\\\", \\\"ZIPCODE\\\", \\\"avg_agi\\\"]]\\n\\n    return df\";\n",
       "                var nbb_cells = Jupyter.notebook.get_cells();\n",
       "                for (var i = 0; i < nbb_cells.length; ++i) {\n",
       "                    if (nbb_cells[i].input_prompt_number == nbb_cell_id) {\n",
       "                        if (nbb_cells[i].get_text() == nbb_unformatted_code) {\n",
       "                             nbb_cells[i].set_text(nbb_formatted_code);\n",
       "                        }\n",
       "                        break;\n",
       "                    }\n",
       "                }\n",
       "            }, 500);\n",
       "            "
      ],
      "text/plain": [
       "<IPython.core.display.Javascript object>"
      ]
     },
     "metadata": {},
     "output_type": "display_data"
    }
   ],
   "source": [
    "def read_agi(filename, year):\n",
    "    col_names = [\n",
    "        \"STATEFIPS\",\n",
    "        \"STATE\",\n",
    "        \"ZIPCODE\",\n",
    "        \"AGI_STUB\",\n",
    "        \"N1\",\n",
    "        # \"N2\",\n",
    "        \"A00100\",\n",
    "        # \"A02650\",\n",
    "    ]\n",
    "    col_types = {\n",
    "        \"STATEFIPS\": str,\n",
    "        \"STATE\": str,\n",
    "        \"ZIPCODE\": str,\n",
    "        \"AGI_STUB\": np.int32,\n",
    "        \"N1\": np.float64,\n",
    "        # \"N2\": np.int32,\n",
    "        \"A00100\": np.float64,\n",
    "        # \"A02650\": np.float64,\n",
    "    }\n",
    "    df = pd.read_csv(filename, usecols=col_names, dtype=col_types)\n",
    "    df.rename(\n",
    "        columns={\n",
    "            \"N1\": \"num_returns\",\n",
    "            # \"N2\": \"num_individuals\",\n",
    "            \"A00100\": \"agi\",\n",
    "            # \"A02650\": \"total_income\",\n",
    "        },\n",
    "        inplace=True,\n",
    "    )\n",
    "    tax_year = pd.to_datetime(year, format=\"%Y\")\n",
    "    df[\"zip_agi\"] = df[\"num_returns\"] * df[\"agi\"]\n",
    "    df = df.groupby([\"STATEFIPS\", \"STATE\", \"ZIPCODE\"]).agg(\n",
    "        zip_returns=(\"num_returns\", \"sum\"), zip_agi_total=(\"zip_agi\", \"sum\")\n",
    "    )\n",
    "    df = df.reset_index()\n",
    "    df[\"avg_agi\"] = round(df[\"zip_agi_total\"] / df[\"zip_returns\"])\n",
    "    df[\"year\"] = tax_year\n",
    "\n",
    "    df = df[[\"year\", \"STATEFIPS\", \"STATE\", \"ZIPCODE\", \"avg_agi\"]]\n",
    "    \n",
    "    return df\n"
   ]
  },
  {
   "cell_type": "code",
   "execution_count": 3,
   "id": "2ef24af0",
   "metadata": {},
   "outputs": [
    {
     "name": "stdout",
     "output_type": "stream",
     "text": [
      "2009\n",
      "09zpallagi.csv\n",
      "2010\n",
      "10zpallagi.csv\n",
      "2011\n",
      "11zpallagi.csv\n",
      "2012\n",
      "12zpallagi.csv\n",
      "2013\n",
      "13zpallagi.csv\n",
      "2014\n",
      "14zpallagi.csv\n",
      "2015\n",
      "15zpallagi.csv\n",
      "2016\n",
      "16zpallagi.csv\n",
      "2017\n",
      "17zpallagi.csv\n",
      "2018\n",
      "18zpallagi.csv\n",
      "2019\n",
      "19zpallagi.csv\n",
      "2020\n",
      "20zpallagi.csv\n"
     ]
    },
    {
     "data": {
      "text/html": [
       "<div>\n",
       "<style scoped>\n",
       "    .dataframe tbody tr th:only-of-type {\n",
       "        vertical-align: middle;\n",
       "    }\n",
       "\n",
       "    .dataframe tbody tr th {\n",
       "        vertical-align: top;\n",
       "    }\n",
       "\n",
       "    .dataframe thead th {\n",
       "        text-align: right;\n",
       "    }\n",
       "</style>\n",
       "<table border=\"1\" class=\"dataframe\">\n",
       "  <thead>\n",
       "    <tr style=\"text-align: right;\">\n",
       "      <th></th>\n",
       "      <th>year</th>\n",
       "      <th>statefips</th>\n",
       "      <th>state</th>\n",
       "      <th>zipcode</th>\n",
       "      <th>avg_agi</th>\n",
       "    </tr>\n",
       "  </thead>\n",
       "  <tbody>\n",
       "    <tr>\n",
       "      <th>1</th>\n",
       "      <td>2009-01-01</td>\n",
       "      <td>01</td>\n",
       "      <td>AL</td>\n",
       "      <td>35004</td>\n",
       "      <td>39708.0</td>\n",
       "    </tr>\n",
       "    <tr>\n",
       "      <th>2</th>\n",
       "      <td>2009-01-01</td>\n",
       "      <td>01</td>\n",
       "      <td>AL</td>\n",
       "      <td>35005</td>\n",
       "      <td>27705.0</td>\n",
       "    </tr>\n",
       "    <tr>\n",
       "      <th>3</th>\n",
       "      <td>2009-01-01</td>\n",
       "      <td>01</td>\n",
       "      <td>AL</td>\n",
       "      <td>35006</td>\n",
       "      <td>10514.0</td>\n",
       "    </tr>\n",
       "    <tr>\n",
       "      <th>4</th>\n",
       "      <td>2009-01-01</td>\n",
       "      <td>01</td>\n",
       "      <td>AL</td>\n",
       "      <td>35007</td>\n",
       "      <td>93212.0</td>\n",
       "    </tr>\n",
       "    <tr>\n",
       "      <th>5</th>\n",
       "      <td>2009-01-01</td>\n",
       "      <td>01</td>\n",
       "      <td>AL</td>\n",
       "      <td>35010</td>\n",
       "      <td>70498.0</td>\n",
       "    </tr>\n",
       "    <tr>\n",
       "      <th>...</th>\n",
       "      <td>...</td>\n",
       "      <td>...</td>\n",
       "      <td>...</td>\n",
       "      <td>...</td>\n",
       "      <td>...</td>\n",
       "    </tr>\n",
       "    <tr>\n",
       "      <th>27738</th>\n",
       "      <td>2020-01-01</td>\n",
       "      <td>56</td>\n",
       "      <td>WY</td>\n",
       "      <td>83122</td>\n",
       "      <td>2120.0</td>\n",
       "    </tr>\n",
       "    <tr>\n",
       "      <th>27739</th>\n",
       "      <td>2020-01-01</td>\n",
       "      <td>56</td>\n",
       "      <td>WY</td>\n",
       "      <td>83126</td>\n",
       "      <td>3097.0</td>\n",
       "    </tr>\n",
       "    <tr>\n",
       "      <th>27740</th>\n",
       "      <td>2020-01-01</td>\n",
       "      <td>56</td>\n",
       "      <td>WY</td>\n",
       "      <td>83127</td>\n",
       "      <td>24516.0</td>\n",
       "    </tr>\n",
       "    <tr>\n",
       "      <th>27741</th>\n",
       "      <td>2020-01-01</td>\n",
       "      <td>56</td>\n",
       "      <td>WY</td>\n",
       "      <td>83128</td>\n",
       "      <td>26555.0</td>\n",
       "    </tr>\n",
       "    <tr>\n",
       "      <th>27742</th>\n",
       "      <td>2020-01-01</td>\n",
       "      <td>56</td>\n",
       "      <td>WY</td>\n",
       "      <td>83414</td>\n",
       "      <td>16235.0</td>\n",
       "    </tr>\n",
       "  </tbody>\n",
       "</table>\n",
       "<p>334523 rows × 5 columns</p>\n",
       "</div>"
      ],
      "text/plain": [
       "            year statefips state zipcode  avg_agi\n",
       "1     2009-01-01        01    AL   35004  39708.0\n",
       "2     2009-01-01        01    AL   35005  27705.0\n",
       "3     2009-01-01        01    AL   35006  10514.0\n",
       "4     2009-01-01        01    AL   35007  93212.0\n",
       "5     2009-01-01        01    AL   35010  70498.0\n",
       "...          ...       ...   ...     ...      ...\n",
       "27738 2020-01-01        56    WY   83122   2120.0\n",
       "27739 2020-01-01        56    WY   83126   3097.0\n",
       "27740 2020-01-01        56    WY   83127  24516.0\n",
       "27741 2020-01-01        56    WY   83128  26555.0\n",
       "27742 2020-01-01        56    WY   83414  16235.0\n",
       "\n",
       "[334523 rows x 5 columns]"
      ]
     },
     "execution_count": 3,
     "metadata": {},
     "output_type": "execute_result"
    },
    {
     "data": {
      "application/javascript": [
       "\n",
       "            setTimeout(function() {\n",
       "                var nbb_cell_id = 3;\n",
       "                var nbb_unformatted_code = \"agi_files = sorted(os.listdir(\\\"../data/income/agi/\\\"))[:12]\\nagi_df_list = []\\nfor fn in agi_files:\\n    yr = \\\"20\\\" + fn[:2]\\n    print(yr)\\n    print(fn)\\n    df = read_agi(os.path.join(\\\"../data/income/agi/\\\", fn), yr)\\n    agi_df_list.append(df)\\n\\nagi_df = pd.concat(agi_df_list)\\nagi_df = agi_df[~agi_df.ZIPCODE.isin([\\\"00000\\\", \\\"99999\\\"])]\\nagi_df.columns = [cn.lower() for cn in agi_df.columns]\\n\\nagi_df\";\n",
       "                var nbb_formatted_code = \"agi_files = sorted(os.listdir(\\\"../data/income/agi/\\\"))[:12]\\nagi_df_list = []\\nfor fn in agi_files:\\n    yr = \\\"20\\\" + fn[:2]\\n    print(yr)\\n    print(fn)\\n    df = read_agi(os.path.join(\\\"../data/income/agi/\\\", fn), yr)\\n    agi_df_list.append(df)\\n\\nagi_df = pd.concat(agi_df_list)\\nagi_df = agi_df[~agi_df.ZIPCODE.isin([\\\"00000\\\", \\\"99999\\\"])]\\nagi_df.columns = [cn.lower() for cn in agi_df.columns]\\n\\nagi_df\";\n",
       "                var nbb_cells = Jupyter.notebook.get_cells();\n",
       "                for (var i = 0; i < nbb_cells.length; ++i) {\n",
       "                    if (nbb_cells[i].input_prompt_number == nbb_cell_id) {\n",
       "                        if (nbb_cells[i].get_text() == nbb_unformatted_code) {\n",
       "                             nbb_cells[i].set_text(nbb_formatted_code);\n",
       "                        }\n",
       "                        break;\n",
       "                    }\n",
       "                }\n",
       "            }, 500);\n",
       "            "
      ],
      "text/plain": [
       "<IPython.core.display.Javascript object>"
      ]
     },
     "metadata": {},
     "output_type": "display_data"
    }
   ],
   "source": [
    "agi_files = sorted(os.listdir(\"../data/income/agi/\"))[:12]\n",
    "agi_df_list = []\n",
    "for fn in agi_files:\n",
    "    yr = \"20\" + fn[:2]\n",
    "    print(yr)\n",
    "    print(fn)\n",
    "    df = read_agi(os.path.join(\"../data/income/agi/\", fn), yr)\n",
    "    agi_df_list.append(df)\n",
    "\n",
    "agi_df = pd.concat(agi_df_list)\n",
    "agi_df = agi_df[~agi_df.ZIPCODE.isin([\"00000\", \"99999\"])]\n",
    "agi_df.columns = [cn.lower() for cn in agi_df.columns]\n",
    "\n",
    "agi_df"
   ]
  },
  {
   "cell_type": "code",
   "execution_count": 4,
   "id": "53b9b1eb",
   "metadata": {},
   "outputs": [
    {
     "data": {
      "text/plain": [
       "Text(0.5, 1.0, 'Average AGI by zipcode and year')"
      ]
     },
     "execution_count": 4,
     "metadata": {},
     "output_type": "execute_result"
    },
    {
     "data": {
      "image/png": "[encoded data removed]",
      "text/plain": [
       "<Figure size 1008x504 with 1 Axes>"
      ]
     },
     "metadata": {
      "needs_background": "light"
     },
     "output_type": "display_data"
    },
    {
     "data": {
      "application/javascript": [
       "\n",
       "            setTimeout(function() {\n",
       "                var nbb_cell_id = 4;\n",
       "                var nbb_unformatted_code = \"fig, ax = plt.subplots(1, 1)\\n\\ng = sns.lineplot(\\n    data=agi_df[agi_df.zipcode.isin([\\\"55109\\\", \\\"98004\\\", \\\"90210\\\", \\\"33109\\\"])],\\n    x=\\\"year\\\",\\n    y=\\\"avg_agi\\\",\\n    marker=\\\"o\\\",\\n    hue=\\\"zipcode\\\",\\n    ax=ax,\\n)\\n\\nfmt = \\\"${x:,.0f}\\\"\\ntick = mtick.StrMethodFormatter(fmt)\\nax.yaxis.set_major_formatter(tick)\\ng.set_ylabel(\\\"Average AGI\\\")\\ng.set_xlabel(\\\"Tax Return Year\\\")\\ng.set_title(\\\"Average AGI by zipcode and year\\\", fontsize=16)\";\n",
       "                var nbb_formatted_code = \"fig, ax = plt.subplots(1, 1)\\n\\ng = sns.lineplot(\\n    data=agi_df[agi_df.zipcode.isin([\\\"55109\\\", \\\"98004\\\", \\\"90210\\\", \\\"33109\\\"])],\\n    x=\\\"year\\\",\\n    y=\\\"avg_agi\\\",\\n    marker=\\\"o\\\",\\n    hue=\\\"zipcode\\\",\\n    ax=ax,\\n)\\n\\nfmt = \\\"${x:,.0f}\\\"\\ntick = mtick.StrMethodFormatter(fmt)\\nax.yaxis.set_major_formatter(tick)\\ng.set_ylabel(\\\"Average AGI\\\")\\ng.set_xlabel(\\\"Tax Return Year\\\")\\ng.set_title(\\\"Average AGI by zipcode and year\\\", fontsize=16)\";\n",
       "                var nbb_cells = Jupyter.notebook.get_cells();\n",
       "                for (var i = 0; i < nbb_cells.length; ++i) {\n",
       "                    if (nbb_cells[i].input_prompt_number == nbb_cell_id) {\n",
       "                        if (nbb_cells[i].get_text() == nbb_unformatted_code) {\n",
       "                             nbb_cells[i].set_text(nbb_formatted_code);\n",
       "                        }\n",
       "                        break;\n",
       "                    }\n",
       "                }\n",
       "            }, 500);\n",
       "            "
      ],
      "text/plain": [
       "<IPython.core.display.Javascript object>"
      ]
     },
     "metadata": {},
     "output_type": "display_data"
    }
   ],
   "source": [
    "fig, ax = plt.subplots(1, 1)\n",
    "\n",
    "g = sns.lineplot(\n",
    "    data=agi_df[agi_df.zipcode.isin([\"55109\", \"98004\", \"90210\", \"33109\"])],\n",
    "    x=\"year\",\n",
    "    y=\"avg_agi\",\n",
    "    marker=\"o\",\n",
    "    hue=\"zipcode\",\n",
    "    ax=ax,\n",
    ")\n",
    "\n",
    "fmt = \"${x:,.0f}\"\n",
    "tick = mtick.StrMethodFormatter(fmt)\n",
    "ax.yaxis.set_major_formatter(tick)\n",
    "g.set_ylabel(\"Average AGI\")\n",
    "g.set_xlabel(\"Tax Return Year\")\n",
    "g.set_title(\"Average AGI by zipcode and year\", fontsize=16)"
   ]
  },
  {
   "cell_type": "code",
   "execution_count": 5,
   "id": "8894f3ed",
   "metadata": {},
   "outputs": [
    {
     "data": {
      "application/javascript": [
       "\n",
       "            setTimeout(function() {\n",
       "                var nbb_cell_id = 5;\n",
       "                var nbb_unformatted_code = \"agi_df.sort_values([\\\"year\\\", \\\"state\\\", \\\"zipcode\\\"], inplace=True)\";\n",
       "                var nbb_formatted_code = \"agi_df.sort_values([\\\"year\\\", \\\"state\\\", \\\"zipcode\\\"], inplace=True)\";\n",
       "                var nbb_cells = Jupyter.notebook.get_cells();\n",
       "                for (var i = 0; i < nbb_cells.length; ++i) {\n",
       "                    if (nbb_cells[i].input_prompt_number == nbb_cell_id) {\n",
       "                        if (nbb_cells[i].get_text() == nbb_unformatted_code) {\n",
       "                             nbb_cells[i].set_text(nbb_formatted_code);\n",
       "                        }\n",
       "                        break;\n",
       "                    }\n",
       "                }\n",
       "            }, 500);\n",
       "            "
      ],
      "text/plain": [
       "<IPython.core.display.Javascript object>"
      ]
     },
     "metadata": {},
     "output_type": "display_data"
    }
   ],
   "source": [
    "agi_df.sort_values([\"year\", \"state\", \"zipcode\"], inplace=True)"
   ]
  },
  {
   "cell_type": "code",
   "execution_count": 6,
   "id": "9ab53aed",
   "metadata": {},
   "outputs": [
    {
     "data": {
      "application/javascript": [
       "\n",
       "            setTimeout(function() {\n",
       "                var nbb_cell_id = 6;\n",
       "                var nbb_unformatted_code = \"agi_df.to_csv(\\\"../data/modeling/agi.csv\\\", index=False)\";\n",
       "                var nbb_formatted_code = \"agi_df.to_csv(\\\"../data/modeling/agi.csv\\\", index=False)\";\n",
       "                var nbb_cells = Jupyter.notebook.get_cells();\n",
       "                for (var i = 0; i < nbb_cells.length; ++i) {\n",
       "                    if (nbb_cells[i].input_prompt_number == nbb_cell_id) {\n",
       "                        if (nbb_cells[i].get_text() == nbb_unformatted_code) {\n",
       "                             nbb_cells[i].set_text(nbb_formatted_code);\n",
       "                        }\n",
       "                        break;\n",
       "                    }\n",
       "                }\n",
       "            }, 500);\n",
       "            "
      ],
      "text/plain": [
       "<IPython.core.display.Javascript object>"
      ]
     },
     "metadata": {},
     "output_type": "display_data"
    }
   ],
   "source": [
    "agi_df.to_csv(\"../data/modeling/agi.csv\", index=False)"
   ]
  },
  {
   "cell_type": "code",
   "execution_count": null,
   "id": "bc7af5f8",
   "metadata": {},
   "outputs": [],
   "source": []
  }
 ],
 "metadata": {
  "kernelspec": {
   "display_name": "Python 3",
   "language": "python",
   "name": "python3"
  },
  "language_info": {
   "codemirror_mode": {
    "name": "ipython",
    "version": 3
   },
   "file_extension": ".py",
   "mimetype": "text/x-python",
   "name": "python",
   "nbconvert_exporter": "python",
   "pygments_lexer": "ipython3",
   "version": "3.10.6"
  }
 },
 "nbformat": 4,
 "nbformat_minor": 5
}
